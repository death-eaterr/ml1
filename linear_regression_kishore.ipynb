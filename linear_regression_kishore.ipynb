{
  "cells": [
    {
      "cell_type": "code",
      "execution_count": 1,
      "id": "aef5eb9c",
      "metadata": {
        "id": "aef5eb9c"
      },
      "outputs": [],
      "source": [
        "import pandas as pd\n",
        "import numpy as np\n",
        "import matplotlib.pyplot as plt\n"
      ]
    },
    {
      "cell_type": "code",
      "execution_count": 2,
      "id": "a6c5827e",
      "metadata": {
        "colab": {
          "base_uri": "https://localhost:8080/",
          "height": 424
        },
        "id": "a6c5827e",
        "outputId": "d41c435b-6425-4574-c460-47eef1b83e46"
      },
      "outputs": [
        {
          "data": {
            "text/html": [
              "<div>\n",
              "<style scoped>\n",
              "    .dataframe tbody tr th:only-of-type {\n",
              "        vertical-align: middle;\n",
              "    }\n",
              "\n",
              "    .dataframe tbody tr th {\n",
              "        vertical-align: top;\n",
              "    }\n",
              "\n",
              "    .dataframe thead th {\n",
              "        text-align: right;\n",
              "    }\n",
              "</style>\n",
              "<table border=\"1\" class=\"dataframe\">\n",
              "  <thead>\n",
              "    <tr style=\"text-align: right;\">\n",
              "      <th></th>\n",
              "      <th>a</th>\n",
              "      <th>b</th>\n",
              "    </tr>\n",
              "  </thead>\n",
              "  <tbody>\n",
              "    <tr>\n",
              "      <th>0</th>\n",
              "      <td>6.1101</td>\n",
              "      <td>17.59200</td>\n",
              "    </tr>\n",
              "    <tr>\n",
              "      <th>1</th>\n",
              "      <td>5.5277</td>\n",
              "      <td>9.13020</td>\n",
              "    </tr>\n",
              "    <tr>\n",
              "      <th>2</th>\n",
              "      <td>8.5186</td>\n",
              "      <td>13.66200</td>\n",
              "    </tr>\n",
              "    <tr>\n",
              "      <th>3</th>\n",
              "      <td>7.0032</td>\n",
              "      <td>11.85400</td>\n",
              "    </tr>\n",
              "    <tr>\n",
              "      <th>4</th>\n",
              "      <td>5.8598</td>\n",
              "      <td>6.82330</td>\n",
              "    </tr>\n",
              "    <tr>\n",
              "      <th>...</th>\n",
              "      <td>...</td>\n",
              "      <td>...</td>\n",
              "    </tr>\n",
              "    <tr>\n",
              "      <th>92</th>\n",
              "      <td>5.8707</td>\n",
              "      <td>7.20290</td>\n",
              "    </tr>\n",
              "    <tr>\n",
              "      <th>93</th>\n",
              "      <td>5.3054</td>\n",
              "      <td>1.98690</td>\n",
              "    </tr>\n",
              "    <tr>\n",
              "      <th>94</th>\n",
              "      <td>8.2934</td>\n",
              "      <td>0.14454</td>\n",
              "    </tr>\n",
              "    <tr>\n",
              "      <th>95</th>\n",
              "      <td>13.3940</td>\n",
              "      <td>9.05510</td>\n",
              "    </tr>\n",
              "    <tr>\n",
              "      <th>96</th>\n",
              "      <td>5.4369</td>\n",
              "      <td>0.61705</td>\n",
              "    </tr>\n",
              "  </tbody>\n",
              "</table>\n",
              "<p>97 rows × 2 columns</p>\n",
              "</div>"
            ],
            "text/plain": [
              "          a         b\n",
              "0    6.1101  17.59200\n",
              "1    5.5277   9.13020\n",
              "2    8.5186  13.66200\n",
              "3    7.0032  11.85400\n",
              "4    5.8598   6.82330\n",
              "..      ...       ...\n",
              "92   5.8707   7.20290\n",
              "93   5.3054   1.98690\n",
              "94   8.2934   0.14454\n",
              "95  13.3940   9.05510\n",
              "96   5.4369   0.61705\n",
              "\n",
              "[97 rows x 2 columns]"
            ]
          },
          "execution_count": 2,
          "metadata": {},
          "output_type": "execute_result"
        }
      ],
      "source": [
        "columns = ['a', 'b']\n",
        "ft=pd.read_csv(\"Food_Truck(Linear_Regression).csv\",names=columns)\n",
        "ft"
      ]
    },
    {
      "cell_type": "code",
      "execution_count": 3,
      "id": "f1a9fcd2",
      "metadata": {
        "colab": {
          "base_uri": "https://localhost:8080/"
        },
        "id": "f1a9fcd2",
        "outputId": "8ab58633-4de2-4f98-9b5b-757ecac05bbe"
      },
      "outputs": [],
      "source": [
        "X=ft['a']\n",
        "Y=ft['b']"
      ]
    },
    {
      "cell_type": "code",
      "execution_count": 4,
      "id": "2ff88a3d",
      "metadata": {
        "colab": {
          "base_uri": "https://localhost:8080/",
          "height": 430
        },
        "id": "2ff88a3d",
        "outputId": "897de57d-d541-48a3-ed64-3871ac94865f",
        "scrolled": false
      },
      "outputs": [
        {
          "data": {
            "image/png": "[encoded data removed]",
            "text/plain": [
              "<Figure size 432x288 with 1 Axes>"
            ]
          },
          "metadata": {
            "needs_background": "light"
          },
          "output_type": "display_data"
        }
      ],
      "source": [
        "plt.scatter(X,Y)\n",
        "plt.show()"
      ]
    },
    {
      "cell_type": "code",
      "execution_count": 5,
      "id": "0a027b4a",
      "metadata": {
        "colab": {
          "base_uri": "https://localhost:8080/"
        },
        "id": "0a027b4a",
        "outputId": "afd6913e-f53b-4f5b-aa2c-ee4644019b49"
      },
      "outputs": [
        {
          "name": "stdout",
          "output_type": "stream",
          "text": [
            "8.159800000000002\n",
            "5.83913505154639\n"
          ]
        }
      ],
      "source": [
        "mean_a=sum(X)/len(X)\n",
        "mean_b=sum(Y)/len(Y)\n",
        "print(mean_a)\n",
        "print(mean_b)"
      ]
    },
    {
      "cell_type": "code",
      "execution_count": 6,
      "id": "f977dd5f",
      "metadata": {
        "colab": {
          "base_uri": "https://localhost:8080/"
        },
        "id": "f977dd5f",
        "outputId": "c14e56fc-b21d-4332-93b2-d7e30fd0f855"
      },
      "outputs": [
        {
          "name": "stdout",
          "output_type": "stream",
          "text": [
            "1.193033644189594\n"
          ]
        }
      ],
      "source": [
        "sm=0\n",
        "den=0\n",
        "for i in range(len(X)):\n",
        "    sm+=(X[i]-mean_a)*(Y[i]-mean_b)\n",
        "    den+=(X[i]-mean_a)**2\n",
        "m=sm/den\n",
        "print(m)"
      ]
    },
    {
      "cell_type": "code",
      "execution_count": 7,
      "id": "3217d82e",
      "metadata": {
        "id": "3217d82e"
      },
      "outputs": [],
      "source": [
        "c=mean_b-m*mean_a"
      ]
    },
    {
      "cell_type": "code",
      "execution_count": 8,
      "id": "def126fb",
      "metadata": {
        "colab": {
          "base_uri": "https://localhost:8080/"
        },
        "id": "def126fb",
        "outputId": "7bca68e6-47b2-482e-9fa0-8483207f9e01"
      },
      "outputs": [
        {
          "name": "stdout",
          "output_type": "stream",
          "text": [
            "-3.8957808783118617\n"
          ]
        }
      ],
      "source": [
        "print(c)"
      ]
    },
    {
      "cell_type": "code",
      "execution_count": 9,
      "id": "15b61881",
      "metadata": {
        "colab": {
          "base_uri": "https://localhost:8080/",
          "height": 486
        },
        "id": "15b61881",
        "outputId": "8b0f3fb1-209c-4a93-c003-427ca154e778"
      },
      "outputs": [
        {
          "name": "stdout",
          "output_type": "stream",
          "text": [
            "[3.393773991050976, 2.6989511966749564, 6.267195523081612, 4.459272338676702, 3.0951576699103205, 6.1053008575650844, 5.023815859107217, 6.3381810249108925, 3.842473944630682, 2.134526979608859, 2.917276353561652, 13.002347657989546, 2.9450740374712696, 6.135723215491921, 2.8337639984683802, 2.52202430724164, 3.6983554804125793, 2.2246010197451733, 3.774948240369551, 4.53992141302392, 3.4880236489419536, 20.28701108941121, 2.6540931316534273, 3.6514692581959283, 2.743332048238809, 18.706241510859996, 11.408454709352249, 9.176288761073518, 11.823630417530229, 22.593145123629693, 2.3705090344295607, 3.965595016711049, 7.137632869882341, 3.1333347465243877, 5.9003376774933125, 5.569032234501862, 5.762900201682672, 2.7927236411082585, 11.417998978505764, 3.6840390766823035, 2.5548327324568536, 4.315273177823019, 10.072257027859905, 2.9924374731455963, 5.439349477378454, 4.566526063289346, 2.153138304458217, 3.025484505089649, 10.062712758706386, 2.7155343643291916, 5.099931405606514, 2.4364837949532454, 4.961181592787264, 5.174973221826041, 3.6594625836119983, 3.6906007617253476, 3.5895508120624893, 2.8325709648241917, 7.211600955822095, 7.382681980398883, 6.63321824511898, 2.283298275039302, 21.490782036398507, 13.889964689266606, 18.72294398187865, 4.715774572177465, 6.000552503605239, 8.316111503612824, 2.665188344544391, 20.37171647814867, 8.196808139193863, 4.854524384996716, 3.2698177954196765, 4.724960931237725, 2.1014799476648083, 3.916084120477181, 5.09802255177581, 2.112933070649028, 8.361446782092024, 2.1978770661153275, 2.939347475979159, 2.294154881201427, 3.68678305406394, 7.758606881683025, 3.8779070438631136, 6.265525275979749, 7.056506582077447, 3.2648070541140806, 2.6902420510723726, 2.1402535411009698, 2.913697252629083, 5.214939848906391, 3.1081617366319874, 2.4337398175716096, 5.998524346410117, 12.083711751963559, 2.590623741782541]\n"
          ]
        },
        {
          "data": {
            "image/png": "[encoded data removed]",
            "text/plain": [
              "<Figure size 432x288 with 1 Axes>"
            ]
          },
          "metadata": {
            "needs_background": "light"
          },
          "output_type": "display_data"
        }
      ],
      "source": [
        "line=[m*i+c for i in X]\n",
        "print(line)\n",
        "plt.plot(X,line,label=\"line fit\",color=\"r\")\n",
        "plt.scatter(X,Y,label=\"points\")\n",
        "plt.xlabel(\"x\")\n",
        "plt.ylabel(\"y\")\n",
        "plt.legend()\n",
        "plt.grid(True)\n",
        "plt.show()"
      ]
    },
    {
      "cell_type": "code",
      "execution_count": 10,
      "id": "294c05dc",
      "metadata": {
        "colab": {
          "base_uri": "https://localhost:8080/"
        },
        "id": "294c05dc",
        "outputId": "34870091-2fc3-4816-935d-7d49b577111f"
      },
      "outputs": [
        {
          "name": "stdout",
          "output_type": "stream",
          "text": [
            "868.5324469391843\n"
          ]
        }
      ],
      "source": [
        "SSE=0\n",
        "#line\n",
        "for i in range(len(Y)):\n",
        "  SSE+=(Y[i]-line[i])**2\n",
        "#  SSE\n",
        "# line\n",
        "print(SSE)\n"
      ]
    },
    {
      "cell_type": "code",
      "execution_count": 15,
      "id": "93c5cc39",
      "metadata": {
        "colab": {
          "base_uri": "https://localhost:8080/"
        },
        "id": "93c5cc39",
        "outputId": "0d3dea94-6278-40ae-fc62-6f1a16996f4a"
      },
      "outputs": [
        {
          "data": {
            "text/plain": [
              "2046.3146047180408"
            ]
          },
          "execution_count": 15,
          "metadata": {},
          "output_type": "execute_result"
        }
      ],
      "source": [
        "# line=np.array(line)\n",
        "# nm=line.mean()\n",
        "\n",
        "nm = sum(line)/len(line)\n",
        "\n",
        "SSR=0\n",
        "SST=0\n",
        "for i in line:\n",
        "    SSR+=(i-nm)**2\n",
        "SSR\n",
        "\n",
        "\n",
        "\n",
        "\n"
      ]
    },
    {
      "cell_type": "code",
      "execution_count": 12,
      "id": "7aca4af6",
      "metadata": {
        "colab": {
          "base_uri": "https://localhost:8080/"
        },
        "id": "7aca4af6",
        "outputId": "7869a30b-9141-4f6b-bf32-8c034ac32b31"
      },
      "outputs": [
        {
          "data": {
            "text/plain": [
              "2914.8470516572247"
            ]
          },
          "execution_count": 12,
          "metadata": {},
          "output_type": "execute_result"
        }
      ],
      "source": [
        "for i in Y:\n",
        "    SST+=(i-mean_b)**2\n",
        "SST"
      ]
    },
    {
      "cell_type": "code",
      "execution_count": 13,
      "id": "a5755608",
      "metadata": {
        "id": "a5755608"
      },
      "outputs": [],
      "source": [
        "r=SSR/SST"
      ]
    },
    {
      "cell_type": "code",
      "execution_count": 14,
      "id": "0e3f5de9",
      "metadata": {
        "colab": {
          "base_uri": "https://localhost:8080/"
        },
        "id": "0e3f5de9",
        "outputId": "e2adb727-bc28-4c5b-e797-55c59dcc3714"
      },
      "outputs": [
        {
          "data": {
            "text/plain": [
              "0.70203155378414"
            ]
          },
          "execution_count": 14,
          "metadata": {},
          "output_type": "execute_result"
        }
      ],
      "source": [
        "r"
      ]
    },
    {
      "cell_type": "code",
      "execution_count": null,
      "id": "08f21491",
      "metadata": {
        "id": "08f21491"
      },
      "outputs": [],
      "source": []
    }
  ],
  "metadata": {
    "colab": {
      "provenance": []
    },
    "kernelspec": {
      "display_name": "Python 3 (ipykernel)",
      "language": "python",
      "name": "python3"
    },
    "language_info": {
      "codemirror_mode": {
        "name": "ipython",
        "version": 3
      },
      "file_extension": ".py",
      "mimetype": "text/x-python",
      "name": "python",
      "nbconvert_exporter": "python",
      "pygments_lexer": "ipython3",
      "version": "3.9.6"
    }
  },
  "nbformat": 4,
  "nbformat_minor": 5
}
