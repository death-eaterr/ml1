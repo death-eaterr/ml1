{
 "cells": [
  {
   "cell_type": "code",
   "execution_count": 24,
   "id": "71a0216b",
   "metadata": {},
   "outputs": [],
   "source": [
    "import pandas as pd\n",
    "import numpy as np\n",
    "from sklearn.model_selection import train_test_split\n",
    "from sklearn import preprocessing\n",
    "# from sklearn.preprocessing import StandardScaler\n",
    "# from sklearn.model_selection import KFold"
   ]
  },
  {
   "cell_type": "code",
   "execution_count": 25,
   "id": "8bfa685c",
   "metadata": {},
   "outputs": [],
   "source": [
    "col_names=['x1','x2','result']\n",
    "ds=pd.read_csv(\"Student_University(Logistic_Regression).csv\",names=col_names)"
   ]
  },
  {
   "cell_type": "code",
   "execution_count": 26,
   "id": "aec5c842",
   "metadata": {},
   "outputs": [
    {
     "name": "stdout",
     "output_type": "stream",
     "text": [
      "           x1         x2  result\n",
      "0   34.623660  78.024693       0\n",
      "1   30.286711  43.894998       0\n",
      "2   35.847409  72.902198       0\n",
      "3   60.182599  86.308552       1\n",
      "4   79.032736  75.344376       1\n",
      "..        ...        ...     ...\n",
      "95  83.489163  48.380286       1\n",
      "96  42.261701  87.103851       1\n",
      "97  99.315009  68.775409       1\n",
      "98  55.340018  64.931938       1\n",
      "99  74.775893  89.529813       1\n",
      "\n",
      "[100 rows x 3 columns]\n"
     ]
    }
   ],
   "source": [
    "print(ds)\n",
    "x = ds.iloc[:,[0,1]].values\n",
    "y = ds.iloc[:,2].values"
   ]
  },
  {
   "cell_type": "code",
   "execution_count": 27,
   "id": "a3428d94",
   "metadata": {},
   "outputs": [],
   "source": [
    "xp=preprocessing.scale(x)\n",
    "# kf=KFold(n_splits=5)"
   ]
  },
  {
   "cell_type": "code",
   "execution_count": 34,
   "id": "df9ce00e",
   "metadata": {},
   "outputs": [],
   "source": [
    "# for train_index,test_index in kf.split(xp):\n",
    "xtrain,xtest,ytrain,ytest=train_test_split(xp,y,test_size=0.20,random_state=0)\n",
    "x1=xtrain[:,0]\n",
    "x2=xtrain[:,1]\n",
    "b0=0.0\n",
    "b1=0.0\n",
    "b2=0.0\n",
    "epoch=100\n",
    "alpha=0.001\n",
    "while(epoch>0):\n",
    "    for i in range(len(xtrain)):\n",
    "        prediction=1/(1+np.exp(-(b0+b1*x1[i]+b2*x2[i])))\n",
    "        b0=b0+alpha*(ytrain[i]-prediction)*prediction*(1-prediction)*1.0\n",
    "        b1=b1+alpha*(ytrain[i]-prediction)*prediction*(1-prediction)*x1[i]\n",
    "        b2=b2+alpha*(ytrain[i]-prediction)*prediction*(1-prediction)*x2[i]\n",
    "    epoch=epoch-1"
   ]
  },
  {
   "cell_type": "code",
   "execution_count": 29,
   "id": "139eec65",
   "metadata": {},
   "outputs": [
    {
     "name": "stdout",
     "output_type": "stream",
     "text": [
      "[1 0 0 0 1 1 1 1 0 1 0 0 0 1 1 1 0 1 1 1]\n"
     ]
    }
   ],
   "source": [
    "final_prediction=[]\n",
    "x3=xtest[:,0]\n",
    "x4=xtest[:,1]\n",
    "print(ytest)"
   ]
  },
  {
   "cell_type": "code",
   "execution_count": 30,
   "id": "33787dd4",
   "metadata": {},
   "outputs": [],
   "source": [
    "y_pred=[0]*len(xtest)"
   ]
  },
  {
   "cell_type": "code",
   "execution_count": 31,
   "id": "4c781920",
   "metadata": {},
   "outputs": [],
   "source": [
    "for i in range(len(xtest)):\n",
    "    y_pred[i]=np.round(1/(1+np.exp(-(b0+b1*x3[i]+b2*x4[i]))))"
   ]
  },
  {
   "cell_type": "code",
   "execution_count": 32,
   "id": "3f510b81",
   "metadata": {},
   "outputs": [
    {
     "name": "stdout",
     "output_type": "stream",
     "text": [
      "[1.0]\n"
     ]
    }
   ],
   "source": [
    "final_prediction.append(np.ceil(y_pred[i]))\n",
    "print(final_prediction)"
   ]
  },
  {
   "cell_type": "code",
   "execution_count": 33,
   "id": "6ddaa94d",
   "metadata": {},
   "outputs": [
    {
     "name": "stdout",
     "output_type": "stream",
     "text": [
      "Accuracy 0.8\n"
     ]
    }
   ],
   "source": [
    "from sklearn.metrics import accuracy_score\n",
    "print(\"Accuracy\",accuracy_score(ytest,y_pred))"
   ]
  }
 ],
 "metadata": {
  "kernelspec": {
   "display_name": "Python 3 (ipykernel)",
   "language": "python",
   "name": "python3"
  },
  "language_info": {
   "codemirror_mode": {
    "name": "ipython",
    "version": 3
   },
   "file_extension": ".py",
   "mimetype": "text/x-python",
   "name": "python",
   "nbconvert_exporter": "python",
   "pygments_lexer": "ipython3",
   "version": "3.9.6"
  }
 },
 "nbformat": 4,
 "nbformat_minor": 5
}
