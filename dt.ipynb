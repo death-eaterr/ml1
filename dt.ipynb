{
 "cells": [
  {
   "cell_type": "code",
   "execution_count": 41,
   "id": "d7064d5d",
   "metadata": {},
   "outputs": [
    {
     "data": {
      "text/html": [
       "<div>\n",
       "<style scoped>\n",
       "    .dataframe tbody tr th:only-of-type {\n",
       "        vertical-align: middle;\n",
       "    }\n",
       "\n",
       "    .dataframe tbody tr th {\n",
       "        vertical-align: top;\n",
       "    }\n",
       "\n",
       "    .dataframe thead th {\n",
       "        text-align: right;\n",
       "    }\n",
       "</style>\n",
       "<table border=\"1\" class=\"dataframe\">\n",
       "  <thead>\n",
       "    <tr style=\"text-align: right;\">\n",
       "      <th></th>\n",
       "      <th>1</th>\n",
       "      <th>0</th>\n",
       "      <th>0.1</th>\n",
       "      <th>1.1</th>\n",
       "      <th>0.2</th>\n",
       "      <th>0.3</th>\n",
       "      <th>1.2</th>\n",
       "      <th>1.3</th>\n",
       "      <th>1.4</th>\n",
       "      <th>1.5</th>\n",
       "      <th>0.4</th>\n",
       "      <th>0.5</th>\n",
       "      <th>4</th>\n",
       "      <th>0.6</th>\n",
       "      <th>0.7</th>\n",
       "      <th>1.6</th>\n",
       "      <th>1.7</th>\n",
       "    </tr>\n",
       "  </thead>\n",
       "  <tbody>\n",
       "    <tr>\n",
       "      <th>0</th>\n",
       "      <td>1</td>\n",
       "      <td>0</td>\n",
       "      <td>0</td>\n",
       "      <td>1</td>\n",
       "      <td>0</td>\n",
       "      <td>0</td>\n",
       "      <td>0</td>\n",
       "      <td>1</td>\n",
       "      <td>1</td>\n",
       "      <td>1</td>\n",
       "      <td>0</td>\n",
       "      <td>0</td>\n",
       "      <td>4</td>\n",
       "      <td>1</td>\n",
       "      <td>0</td>\n",
       "      <td>1</td>\n",
       "      <td>1</td>\n",
       "    </tr>\n",
       "    <tr>\n",
       "      <th>1</th>\n",
       "      <td>0</td>\n",
       "      <td>0</td>\n",
       "      <td>1</td>\n",
       "      <td>0</td>\n",
       "      <td>0</td>\n",
       "      <td>1</td>\n",
       "      <td>1</td>\n",
       "      <td>1</td>\n",
       "      <td>1</td>\n",
       "      <td>0</td>\n",
       "      <td>0</td>\n",
       "      <td>1</td>\n",
       "      <td>0</td>\n",
       "      <td>1</td>\n",
       "      <td>0</td>\n",
       "      <td>0</td>\n",
       "      <td>4</td>\n",
       "    </tr>\n",
       "    <tr>\n",
       "      <th>2</th>\n",
       "      <td>1</td>\n",
       "      <td>0</td>\n",
       "      <td>0</td>\n",
       "      <td>1</td>\n",
       "      <td>0</td>\n",
       "      <td>0</td>\n",
       "      <td>1</td>\n",
       "      <td>1</td>\n",
       "      <td>1</td>\n",
       "      <td>1</td>\n",
       "      <td>0</td>\n",
       "      <td>0</td>\n",
       "      <td>4</td>\n",
       "      <td>0</td>\n",
       "      <td>0</td>\n",
       "      <td>1</td>\n",
       "      <td>1</td>\n",
       "    </tr>\n",
       "    <tr>\n",
       "      <th>3</th>\n",
       "      <td>1</td>\n",
       "      <td>0</td>\n",
       "      <td>0</td>\n",
       "      <td>1</td>\n",
       "      <td>0</td>\n",
       "      <td>0</td>\n",
       "      <td>1</td>\n",
       "      <td>1</td>\n",
       "      <td>1</td>\n",
       "      <td>1</td>\n",
       "      <td>0</td>\n",
       "      <td>0</td>\n",
       "      <td>4</td>\n",
       "      <td>1</td>\n",
       "      <td>0</td>\n",
       "      <td>1</td>\n",
       "      <td>1</td>\n",
       "    </tr>\n",
       "    <tr>\n",
       "      <th>4</th>\n",
       "      <td>1</td>\n",
       "      <td>0</td>\n",
       "      <td>0</td>\n",
       "      <td>1</td>\n",
       "      <td>0</td>\n",
       "      <td>0</td>\n",
       "      <td>0</td>\n",
       "      <td>1</td>\n",
       "      <td>1</td>\n",
       "      <td>1</td>\n",
       "      <td>0</td>\n",
       "      <td>0</td>\n",
       "      <td>4</td>\n",
       "      <td>1</td>\n",
       "      <td>0</td>\n",
       "      <td>1</td>\n",
       "      <td>1</td>\n",
       "    </tr>\n",
       "  </tbody>\n",
       "</table>\n",
       "</div>"
      ],
      "text/plain": [
       "   1  0  0.1  1.1  0.2  0.3  1.2  1.3  1.4  1.5  0.4  0.5  4  0.6  0.7  1.6  \\\n",
       "0  1  0    0    1    0    0    0    1    1    1    0    0  4    1    0    1   \n",
       "1  0  0    1    0    0    1    1    1    1    0    0    1  0    1    0    0   \n",
       "2  1  0    0    1    0    0    1    1    1    1    0    0  4    0    0    1   \n",
       "3  1  0    0    1    0    0    1    1    1    1    0    0  4    1    0    1   \n",
       "4  1  0    0    1    0    0    0    1    1    1    0    0  4    1    0    1   \n",
       "\n",
       "   1.7  \n",
       "0    1  \n",
       "1    4  \n",
       "2    1  \n",
       "3    1  \n",
       "4    1  "
      ]
     },
     "execution_count": 41,
     "metadata": {},
     "output_type": "execute_result"
    }
   ],
   "source": [
    "import pandas as pd\n",
    "data = pd.read_csv('zoo_data(Decision_Tree).csv')\n",
    "data.head()"
   ]
  },
  {
   "cell_type": "code",
   "execution_count": 42,
   "id": "d13d88b2",
   "metadata": {},
   "outputs": [
    {
     "name": "stdout",
     "output_type": "stream",
     "text": [
      "[1 4 1 1 1 1 4 4 1 1 2 4 7 7 7 2 1 4 1 2 2 1 2 6 5 5 1 1 1 6 1 1 2 4 1 1 2\n",
      " 4 6 6 2 6 2 1 1 7 1 1 1 1 6 5 7 1 1 2 2 2 2 4 4 3 1 1 1 1 1 1 1 1 2 7 4 1\n",
      " 1 3 7 2 2 3 7 4 2 1 7 4 2 6 5 3 3 4 1 1 2 1 6 1 7 2]\n"
     ]
    }
   ],
   "source": [
    "y = data[\"1.7\"]\n",
    "import numpy as np\n",
    "y = np.array(y)\n",
    "print(y)"
   ]
  },
  {
   "cell_type": "code",
   "execution_count": 43,
   "id": "4b9bde65",
   "metadata": {},
   "outputs": [],
   "source": [
    "x = data.drop(columns=[\"1.7\"])"
   ]
  },
  {
   "cell_type": "code",
   "execution_count": 44,
   "id": "45e80618",
   "metadata": {},
   "outputs": [
    {
     "name": "stdout",
     "output_type": "stream",
     "text": [
      "    1  0  0.1  1.1  0.2  0.3  1.2  1.3  1.4  1.5  0.4  0.5  4  0.6  0.7  1.6\n",
      "0   1  0    0    1    0    0    0    1    1    1    0    0  4    1    0    1\n",
      "1   0  0    1    0    0    1    1    1    1    0    0    1  0    1    0    0\n",
      "2   1  0    0    1    0    0    1    1    1    1    0    0  4    0    0    1\n",
      "3   1  0    0    1    0    0    1    1    1    1    0    0  4    1    0    1\n",
      "4   1  0    0    1    0    0    0    1    1    1    0    0  4    1    0    1\n",
      ".. .. ..  ...  ...  ...  ...  ...  ...  ...  ...  ...  ... ..  ...  ...  ...\n",
      "95  1  0    0    1    0    0    0    1    1    1    0    0  2    1    0    1\n",
      "96  1  0    1    0    1    0    0    0    0    1    1    0  6    0    0    0\n",
      "97  1  0    0    1    0    0    1    1    1    1    0    0  4    1    0    1\n",
      "98  0  0    1    0    0    0    0    0    0    1    0    0  0    0    0    0\n",
      "99  0  1    1    0    1    0    0    0    1    1    0    0  2    1    0    0\n",
      "\n",
      "[100 rows x 16 columns]\n"
     ]
    }
   ],
   "source": [
    "print(x)"
   ]
  },
  {
   "cell_type": "code",
   "execution_count": 45,
   "id": "9327acb1",
   "metadata": {},
   "outputs": [
    {
     "data": {
      "text/plain": [
       "array([[1, 0, 0, ..., 1, 0, 1],\n",
       "       [0, 0, 1, ..., 1, 0, 0],\n",
       "       [1, 0, 0, ..., 0, 0, 1],\n",
       "       ...,\n",
       "       [1, 0, 0, ..., 1, 0, 1],\n",
       "       [0, 0, 1, ..., 0, 0, 0],\n",
       "       [0, 1, 1, ..., 1, 0, 0]], dtype=int64)"
      ]
     },
     "execution_count": 45,
     "metadata": {},
     "output_type": "execute_result"
    }
   ],
   "source": [
    "x = np.array(x)\n",
    "x"
   ]
  },
  {
   "cell_type": "code",
   "execution_count": 46,
   "id": "fdf15ecd",
   "metadata": {},
   "outputs": [
    {
     "data": {
      "text/plain": [
       "array([[0, 1, 1, ..., 1, 0, 1],\n",
       "       [0, 0, 1, ..., 0, 0, 0],\n",
       "       [0, 1, 1, ..., 1, 0, 0],\n",
       "       ...,\n",
       "       [0, 0, 1, ..., 0, 0, 0],\n",
       "       [0, 0, 1, ..., 0, 0, 1],\n",
       "       [0, 0, 1, ..., 0, 0, 0]], dtype=int64)"
      ]
     },
     "execution_count": 46,
     "metadata": {},
     "output_type": "execute_result"
    }
   ],
   "source": [
    "from sklearn.model_selection import train_test_split\n",
    "from sklearn.tree import DecisionTreeClassifier\n",
    "X_train,X_test,Y_train,Y_test = train_test_split(x,y,test_size=0.3)\n",
    "X_train"
   ]
  },
  {
   "cell_type": "code",
   "execution_count": 47,
   "id": "1c15f311",
   "metadata": {},
   "outputs": [
    {
     "data": {
      "text/plain": [
       "array([[1, 0, 1, 0, 1, 0, 0, 0, 0, 1, 1, 0, 6, 0, 0, 0],\n",
       "       [1, 0, 0, 1, 0, 0, 0, 1, 1, 1, 0, 0, 4, 1, 1, 1],\n",
       "       [1, 0, 0, 1, 0, 0, 0, 1, 1, 1, 0, 0, 4, 1, 0, 1],\n",
       "       [0, 1, 1, 0, 1, 0, 0, 0, 1, 1, 0, 0, 2, 1, 0, 0],\n",
       "       [0, 0, 1, 0, 0, 1, 1, 1, 1, 0, 0, 1, 0, 1, 0, 0],\n",
       "       [1, 0, 0, 1, 0, 1, 1, 1, 1, 1, 0, 1, 0, 0, 0, 1],\n",
       "       [1, 0, 0, 1, 0, 0, 1, 1, 1, 1, 0, 0, 4, 1, 0, 1],\n",
       "       [1, 0, 0, 1, 0, 0, 0, 1, 1, 1, 0, 0, 4, 0, 1, 0],\n",
       "       [0, 0, 1, 0, 0, 1, 0, 1, 1, 0, 0, 1, 0, 1, 0, 0],\n",
       "       [1, 0, 0, 1, 0, 0, 0, 1, 1, 1, 0, 0, 4, 1, 1, 1],\n",
       "       [1, 0, 0, 1, 0, 0, 0, 1, 1, 1, 0, 0, 4, 1, 0, 0],\n",
       "       [1, 0, 0, 1, 1, 0, 0, 1, 1, 1, 0, 0, 2, 1, 0, 0],\n",
       "       [0, 0, 0, 0, 0, 0, 1, 0, 0, 1, 1, 0, 8, 1, 0, 0],\n",
       "       [1, 0, 0, 1, 0, 0, 1, 1, 1, 1, 0, 0, 4, 1, 0, 1],\n",
       "       [1, 0, 1, 0, 1, 0, 0, 0, 0, 1, 0, 0, 6, 0, 0, 0],\n",
       "       [1, 0, 0, 1, 0, 0, 0, 1, 1, 1, 0, 0, 4, 1, 1, 1],\n",
       "       [0, 1, 1, 0, 0, 1, 1, 0, 1, 1, 0, 0, 2, 1, 0, 1],\n",
       "       [0, 1, 1, 0, 1, 1, 0, 0, 1, 1, 0, 0, 2, 1, 0, 0],\n",
       "       [0, 0, 1, 0, 0, 1, 0, 1, 1, 1, 0, 0, 4, 0, 0, 0],\n",
       "       [0, 0, 1, 0, 0, 1, 0, 1, 1, 0, 0, 1, 0, 1, 1, 0],\n",
       "       [1, 0, 0, 1, 0, 0, 1, 1, 1, 1, 0, 0, 4, 1, 0, 1],\n",
       "       [0, 1, 1, 0, 1, 0, 0, 0, 1, 1, 0, 0, 2, 1, 1, 0],\n",
       "       [0, 0, 1, 0, 0, 0, 1, 1, 1, 1, 0, 0, 0, 1, 0, 0],\n",
       "       [1, 0, 0, 1, 0, 0, 0, 1, 1, 1, 0, 0, 4, 1, 0, 0],\n",
       "       [0, 0, 1, 0, 0, 1, 1, 1, 1, 0, 0, 1, 0, 1, 0, 1],\n",
       "       [0, 1, 1, 0, 1, 0, 0, 0, 1, 1, 0, 0, 2, 1, 0, 1],\n",
       "       [0, 0, 1, 0, 1, 0, 1, 0, 0, 1, 0, 0, 6, 0, 0, 0],\n",
       "       [0, 0, 1, 0, 0, 0, 1, 1, 1, 1, 0, 0, 4, 1, 0, 0],\n",
       "       [1, 0, 0, 1, 0, 0, 0, 1, 1, 1, 0, 0, 4, 1, 0, 1],\n",
       "       [1, 0, 0, 1, 0, 0, 0, 1, 1, 1, 0, 0, 2, 0, 0, 1]], dtype=int64)"
      ]
     },
     "execution_count": 47,
     "metadata": {},
     "output_type": "execute_result"
    }
   ],
   "source": [
    "X_test"
   ]
  },
  {
   "cell_type": "code",
   "execution_count": 48,
   "id": "1f786a2f",
   "metadata": {},
   "outputs": [
    {
     "data": {
      "text/plain": [
       "array([2, 7, 2, 1, 1, 7, 1, 1, 1, 1, 6, 2, 2, 2, 1, 1, 4, 1, 2, 7, 4, 6,\n",
       "       2, 7, 4, 2, 6, 7, 1, 2, 1, 4, 1, 1, 6, 1, 5, 1, 3, 1, 2, 1, 1, 2,\n",
       "       2, 2, 1, 4, 1, 1, 4, 1, 4, 1, 1, 1, 2, 7, 5, 7, 6, 3, 4, 2, 4, 3,\n",
       "       1, 5, 7, 7], dtype=int64)"
      ]
     },
     "execution_count": 48,
     "metadata": {},
     "output_type": "execute_result"
    }
   ],
   "source": [
    "\n",
    "Y_train"
   ]
  },
  {
   "cell_type": "code",
   "execution_count": 49,
   "id": "246ebcca",
   "metadata": {},
   "outputs": [
    {
     "data": {
      "text/plain": [
       "array([6, 1, 1, 2, 4, 1, 1, 1, 4, 1, 1, 1, 7, 1, 6, 1, 2, 2, 5, 4, 1, 2,\n",
       "       3, 1, 4, 2, 6, 3, 1, 1], dtype=int64)"
      ]
     },
     "execution_count": 49,
     "metadata": {},
     "output_type": "execute_result"
    }
   ],
   "source": [
    "\n",
    "Y_test"
   ]
  },
  {
   "cell_type": "code",
   "execution_count": 50,
   "id": "11919fc5",
   "metadata": {},
   "outputs": [
    {
     "data": {
      "text/plain": [
       "array([6, 1, 1, 2, 4, 1, 1, 1, 4, 1, 1, 1, 6, 1, 6, 1, 2, 2, 5, 4, 1, 2,\n",
       "       3, 1, 4, 2, 6, 3, 1, 1], dtype=int64)"
      ]
     },
     "execution_count": 50,
     "metadata": {},
     "output_type": "execute_result"
    }
   ],
   "source": [
    "inst = DecisionTreeClassifier()\n",
    "inst = inst.fit(X_train,Y_train)\n",
    "Y_pred = inst.predict(X_test)\n",
    "Y_pred"
   ]
  },
  {
   "cell_type": "code",
   "execution_count": 51,
   "id": "0bf37b91",
   "metadata": {},
   "outputs": [
    {
     "name": "stdout",
     "output_type": "stream",
     "text": [
      "0.9666666666666667\n"
     ]
    }
   ],
   "source": [
    "from sklearn import metrics\n",
    "from sklearn.metrics import precision_recall_fscore_support\n",
    "acc = metrics.accuracy_score(Y_test,Y_pred)\n",
    "print(acc)"
   ]
  },
  {
   "cell_type": "code",
   "execution_count": 53,
   "id": "103fefca",
   "metadata": {},
   "outputs": [
    {
     "name": "stdout",
     "output_type": "stream",
     "text": [
      "Precision,recall,F score is (0.8214285714285714, 0.8571428571428571, 0.836734693877551, None)\n"
     ]
    },
    {
     "name": "stderr",
     "output_type": "stream",
     "text": [
      "c:\\Users\\Administrator\\AppData\\Local\\Programs\\Python\\Python39\\lib\\site-packages\\sklearn\\metrics\\_classification.py:1308: UndefinedMetricWarning: Precision and F-score are ill-defined and being set to 0.0 in labels with no predicted samples. Use `zero_division` parameter to control this behavior.\n",
      "  _warn_prf(average, modifier, msg_start, len(result))\n"
     ]
    }
   ],
   "source": [
    "\n",
    "print(\"Precision,recall,F score is\",precision_recall_fscore_support(Y_test,Y_pred,average='macro'))"
   ]
  },
  {
   "cell_type": "code",
   "execution_count": 40,
   "id": "36f62040",
   "metadata": {},
   "outputs": [
    {
     "data": {
      "text/plain": [
       "[Text(892.8, 1009.5428571428572, 'X[3] <= 0.5\\ngini = 0.752\\nsamples = 70\\nvalue = [30, 12, 5, 9, 4, 5, 5]'),\n",
       " Text(781.1999999999999, 854.2285714285715, 'X[1] <= 0.5\\ngini = 0.802\\nsamples = 40\\nvalue = [0, 12, 5, 9, 4, 5, 5]'),\n",
       " Text(669.5999999999999, 698.9142857142858, 'X[11] <= 0.5\\ngini = 0.781\\nsamples = 28\\nvalue = [0, 0, 5, 9, 4, 5, 5]'),\n",
       " Text(558.0, 543.6, 'X[8] <= 0.5\\ngini = 0.748\\nsamples = 19\\nvalue = [0, 0, 5, 0, 4, 5, 5]'),\n",
       " Text(334.79999999999995, 388.28571428571433, 'X[6] <= 0.5\\ngini = 0.5\\nsamples = 10\\nvalue = [0, 0, 0, 0, 0, 5, 5]'),\n",
       " Text(223.2, 232.97142857142865, 'X[12] <= 3.0\\ngini = 0.278\\nsamples = 6\\nvalue = [0, 0, 0, 0, 0, 5, 1]'),\n",
       " Text(111.6, 77.65714285714284, 'gini = 0.0\\nsamples = 1\\nvalue = [0, 0, 0, 0, 0, 0, 1]'),\n",
       " Text(334.79999999999995, 77.65714285714284, 'gini = 0.0\\nsamples = 5\\nvalue = [0, 0, 0, 0, 0, 5, 0]'),\n",
       " Text(446.4, 232.97142857142865, 'gini = 0.0\\nsamples = 4\\nvalue = [0, 0, 0, 0, 0, 0, 4]'),\n",
       " Text(781.1999999999999, 388.28571428571433, 'X[5] <= 0.5\\ngini = 0.494\\nsamples = 9\\nvalue = [0, 0, 5, 0, 4, 0, 0]'),\n",
       " Text(669.5999999999999, 232.97142857142865, 'gini = 0.0\\nsamples = 4\\nvalue = [0, 0, 4, 0, 0, 0, 0]'),\n",
       " Text(892.8, 232.97142857142865, 'X[2] <= 0.5\\ngini = 0.32\\nsamples = 5\\nvalue = [0, 0, 1, 0, 4, 0, 0]'),\n",
       " Text(781.1999999999999, 77.65714285714284, 'gini = 0.0\\nsamples = 1\\nvalue = [0, 0, 1, 0, 0, 0, 0]'),\n",
       " Text(1004.4, 77.65714285714284, 'gini = 0.0\\nsamples = 4\\nvalue = [0, 0, 0, 0, 4, 0, 0]'),\n",
       " Text(781.1999999999999, 543.6, 'gini = 0.0\\nsamples = 9\\nvalue = [0, 0, 0, 9, 0, 0, 0]'),\n",
       " Text(892.8, 698.9142857142858, 'gini = 0.0\\nsamples = 12\\nvalue = [0, 12, 0, 0, 0, 0, 0]'),\n",
       " Text(1004.4, 854.2285714285715, 'gini = 0.0\\nsamples = 30\\nvalue = [30, 0, 0, 0, 0, 0, 0]')]"
      ]
     },
     "execution_count": 40,
     "metadata": {},
     "output_type": "execute_result"
    },
    {
     "data": {
      "image/png": "[encoded data removed]",
      "text/plain": [
       "<Figure size 1440x1440 with 1 Axes>"
      ]
     },
     "metadata": {
      "needs_background": "light"
     },
     "output_type": "display_data"
    }
   ],
   "source": [
    "# import graphviz\n",
    "import matplotlib.pyplot as plt\n",
    "from sklearn import tree\n",
    "plt.figure(figsize=(20,20))\n",
    "tree.plot_tree(inst,fontsize=10)"
   ]
  },
  {
   "cell_type": "code",
   "execution_count": null,
   "id": "6a88cd74",
   "metadata": {},
   "outputs": [
    {
     "data": {
      "text/plain": [
       "array([[13,  3],\n",
       "       [ 6,  8]])"
      ]
     },
     "execution_count": 15,
     "metadata": {},
     "output_type": "execute_result"
    }
   ],
   "source": [
    "from sklearn.metrics import confusion_matrix\n",
    "confusion_matrix(Y_test,Y_pred)"
   ]
  },
  {
   "cell_type": "code",
   "execution_count": null,
   "id": "631d4d47",
   "metadata": {},
   "outputs": [
    {
     "name": "stdout",
     "output_type": "stream",
     "text": [
      "              precision    recall  f1-score   support\n",
      "\n",
      "           0       0.68      0.81      0.74        16\n",
      "           1       0.73      0.57      0.64        14\n",
      "\n",
      "    accuracy                           0.70        30\n",
      "   macro avg       0.71      0.69      0.69        30\n",
      "weighted avg       0.70      0.70      0.69        30\n",
      "\n"
     ]
    }
   ],
   "source": [
    "from sklearn.metrics import classification_report\n",
    "print(classification_report(Y_test, Y_pred))"
   ]
  },
  {
   "cell_type": "code",
   "execution_count": null,
   "id": "871bafd8",
   "metadata": {},
   "outputs": [],
   "source": []
  }
 ],
 "metadata": {
  "kernelspec": {
   "display_name": "Python 3 (ipykernel)",
   "language": "python",
   "name": "python3"
  },
  "language_info": {
   "codemirror_mode": {
    "name": "ipython",
    "version": 3
   },
   "file_extension": ".py",
   "mimetype": "text/x-python",
   "name": "python",
   "nbconvert_exporter": "python",
   "pygments_lexer": "ipython3",
   "version": "3.9.6"
  }
 },
 "nbformat": 4,
 "nbformat_minor": 5
}
